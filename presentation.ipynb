{
 "cells": [
  {
   "cell_type": "markdown",
   "metadata": {},
   "source": [
    "## Reconhecimento de digito manuscrito"
   ]
  },
  {
   "cell_type": "markdown",
   "metadata": {},
   "source": [
    "### Preparação dos dados, treino e validação"
   ]
  },
  {
   "cell_type": "code",
   "execution_count": 3,
   "metadata": {
    "collapsed": false
   },
   "outputs": [
    {
     "name": "stdout",
     "output_type": "stream",
     "text": [
      "The shape of our cells array: (50, 100, 20, 20)\n",
      "Accuracy is = 93.47%\n"
     ]
    }
   ],
   "source": [
    "import numpy as np\n",
    "import cv2\n",
    "\n",
    "# Carregar e processar a imagem dos dígitos\n",
    "image = cv2.imread('digits.png')\n",
    "gray = cv2.cvtColor(image, cv2.COLOR_BGR2GRAY)\n",
    "small = cv2.pyrDown(image)\n",
    "\n",
    "# Exibir a imagem redimensionada\n",
    "cv2.imshow('Digits Image', small)\n",
    "cv2.waitKey(0)\n",
    "cv2.destroyAllWindows()\n",
    "\n",
    "# Dividir a imagem em 5000 células, cada uma de 20x20 pixels\n",
    "# Isso resulta em um array 4D de tamanho 50 x 100 x 20 x 20\n",
    "cells = [np.hsplit(row, 100) for row in np.vsplit(gray, 50)]\n",
    "\n",
    "cv2.imshow(\"digit\", cells[0][0])\n",
    "cv2.waitKey(0)\n",
    "cv2.destroyAllWindows()\n",
    "\n",
    "# Converter a lista para um array numpy com forma (50,100,20,20)\n",
    "x = np.array(cells)\n",
    "print(\"The shape of our cells array: \" + str(x.shape))\n",
    "\n",
    "# Dividir o conjunto de dados em dois segmentos\n",
    "# Um para treinamento e outro para teste\n",
    "train = x[:, :70].reshape(-1, 400).astype(np.float32)  # Tamanho = (3500, 400)\n",
    "test = x[:, 70:100].reshape(-1, 400).astype(np.float32)  # Tamanho = (1500, 400)\n",
    "\n",
    "# Criar labels para os dados de treino e teste\n",
    "k = [0, 1, 2, 3, 4, 5, 6, 7, 8, 9]\n",
    "train_labels = np.repeat(k, 350)[:, np.newaxis]\n",
    "test_labels = np.repeat(k, 150)[:, np.newaxis]\n",
    "\n",
    "# Iniciar kNN, treinar os dados e testar com o conjunto de teste para k=3\n",
    "knn = cv2.ml.KNearest_create() \n",
    "knn.train(train, cv2.ml.ROW_SAMPLE, train_labels)\n",
    "ret, result, neighbors, distance = knn.findNearest(test, k=3)\n",
    "\n",
    "# Verificar a acurácia da classificação\n",
    "matches = result == test_labels\n",
    "correct = np.count_nonzero(matches)\n",
    "accuracy = correct * (100.0 / result.size)\n",
    "print(\"Accuracy is = %.2f\" % accuracy + \"%\")"
   ]
  },
  {
   "cell_type": "markdown",
   "metadata": {},
   "source": [
    "### Definindo funções úteis"
   ]
  },
  {
   "cell_type": "code",
   "execution_count": 4,
   "metadata": {
    "collapsed": true
   },
   "outputs": [],
   "source": [
    "# Função para obter a coordenada x do centróide de um contorno\n",
    "def x_cord_contour(contour):\n",
    "    if cv2.contourArea(contour) > 10:\n",
    "        M = cv2.moments(contour)\n",
    "        if M['m00'] != 0:\n",
    "            return int(M['m10'] / M['m00'])\n",
    "    return 0\n",
    "\n",
    "# Função para transformar a imagem em um quadrado, adicionando bordas pretas\n",
    "def makeSquare(not_square):\n",
    "    BLACK = [0, 0, 0]\n",
    "    height, width = not_square.shape[:2]\n",
    "    \n",
    "    if height == width:\n",
    "        return not_square\n",
    "    \n",
    "    max_dim = max(height, width)\n",
    "    padding_vert = (max_dim - height) // 2\n",
    "    padding_horz = (max_dim - width) // 2\n",
    "    \n",
    "    square_img = cv2.copyMakeBorder(\n",
    "        not_square, \n",
    "        padding_vert, padding_vert, padding_horz, padding_horz, \n",
    "        cv2.BORDER_CONSTANT, value=BLACK\n",
    "    )\n",
    "    \n",
    "    return square_img\n",
    "\n",
    "# Função para redimensionar a imagem para um tamanho específico\n",
    "def resize_to_pixel(dimensions, image):\n",
    "    buffer_pix = 4\n",
    "    dimensions -= buffer_pix\n",
    "    \n",
    "    r = float(dimensions) / image.shape[1]\n",
    "    new_dim = (dimensions, int(image.shape[0] * r))\n",
    "    \n",
    "    resized = cv2.resize(image, new_dim, interpolation=cv2.INTER_AREA)\n",
    "    \n",
    "    height_r, width_r = resized.shape[:2]\n",
    "    BLACK = [0, 0, 0]\n",
    "\n",
    "    # Padroniza o tamanho final da imagem\n",
    "    if height_r != width_r:\n",
    "        diff = abs(height_r - width_r)\n",
    "        if height_r > width_r:\n",
    "            resized = cv2.copyMakeBorder(resized, 0, 0, diff // 2, diff // 2, cv2.BORDER_CONSTANT, value=BLACK)\n",
    "        else:\n",
    "            resized = cv2.copyMakeBorder(resized, diff // 2, diff // 2, 0, 0, cv2.BORDER_CONSTANT, value=BLACK)\n",
    "\n",
    "    # Adiciona bordas extras para garantir o tamanho adequado\n",
    "    ReSizedImg = cv2.copyMakeBorder(resized, 2, 2, 2, 2, cv2.BORDER_CONSTANT, value=BLACK)\n",
    "\n",
    "    return ReSizedImg\n"
   ]
  },
  {
   "cell_type": "markdown",
   "metadata": {},
   "source": [
    "### Carregando uma nova imagem, preprocessando ela e reconhecendo os dígitos"
   ]
  },
  {
   "cell_type": "code",
   "execution_count": null,
   "metadata": {
    "collapsed": false
   },
   "outputs": [],
   "source": [
    "# Carregar a imagem\n",
    "image = cv2.imread('numbers.jpg')\n",
    "gray = cv2.cvtColor(image, cv2.COLOR_BGR2GRAY)\n",
    "\n",
    "# Mostrar as imagens original e em escala de cinza\n",
    "cv2.imshow(\"image\", image)\n",
    "cv2.imshow(\"gray\", gray)\n",
    "cv2.waitKey(0)\n",
    "cv2.destroyAllWindows()\n",
    "\n",
    "# Desfocar a imagem e encontrar as bordas usando Canny\n",
    "blurred = cv2.GaussianBlur(gray, (5, 5), 0)\n",
    "cv2.imshow(\"blurred\", blurred)\n",
    "cv2.waitKey(0)\n",
    "cv2.destroyAllWindows()\n",
    "\n",
    "edged = cv2.Canny(blurred, 30, 150)\n",
    "cv2.imshow(\"edged\", edged)\n",
    "cv2.waitKey(0)\n",
    "cv2.destroyAllWindows()\n",
    "\n",
    "# Encontrar contornos\n",
    "contours, _ = cv2.findContours(edged.copy(), cv2.RETR_EXTERNAL, cv2.CHAIN_APPROX_SIMPLE)\n",
    "\n",
    "# Ordenar contornos\n",
    "contours = sorted(contours, key=x_cord_contour, reverse=False)\n",
    "\n",
    "# Criar um array vazio para armazenar o número completo\n",
    "full_number = []\n",
    "\n",
    "# Loop sobre os contornos\n",
    "for c in contours:\n",
    "    (x, y, w, h) = cv2.boundingRect(c)\n",
    "\n",
    "    if w >= 5 and h >= 25:\n",
    "        roi = blurred[y:y + h, x:x + w]\n",
    "        ret, roi = cv2.threshold(roi, 127, 255, cv2.THRESH_BINARY_INV)\n",
    "        cv2.imshow(\"threshold\", roi)\n",
    "        squared = makeSquare(roi)\n",
    "        final = resize_to_pixel(20, squared)\n",
    "        cv2.imshow(\"final\", final)\n",
    "\n",
    "        if final.shape[0] == 20 and final.shape[1] == 20:\n",
    "            final_array = final.reshape((1, 400)).astype(np.float32)\n",
    "            # Usar findNearest\n",
    "            ret, result, neighbors, dist = knn.findNearest(final_array, k=1)\n",
    "\n",
    "            # Extraindo o valor do resultado corretamente\n",
    "            number = str(int(result[0].item()))\n",
    "            full_number.append(number)\n",
    "\n",
    "            # Desenhar um retângulo ao redor do dígito\n",
    "            cv2.rectangle(image, (x, y), (x + w, y + h), (0, 0, 255), 2)\n",
    "            cv2.putText(image, number, (x, y + 155), cv2.FONT_HERSHEY_COMPLEX, 2, (255, 0, 0), 2)\n",
    "            cv2.imshow(\"image\", image)\n",
    "            cv2.waitKey(0)\n",
    "        else:\n",
    "            print(f\"Dimensões inesperadas para a ROI: {final.shape}\")\n",
    "\n",
    "cv2.destroyAllWindows()\n",
    "print(\"The number is: \" + ''.join(full_number))\n"
   ]
  }
 ],
 "metadata": {
  "kernelspec": {
   "display_name": "nasa-presentation",
   "language": "python",
   "name": "python3"
  },
  "language_info": {
   "codemirror_mode": {
    "name": "ipython",
    "version": 3
   },
   "file_extension": ".py",
   "mimetype": "text/x-python",
   "name": "python",
   "nbconvert_exporter": "python",
   "pygments_lexer": "ipython3",
   "version": "3.11.9"
  }
 },
 "nbformat": 4,
 "nbformat_minor": 0
}
